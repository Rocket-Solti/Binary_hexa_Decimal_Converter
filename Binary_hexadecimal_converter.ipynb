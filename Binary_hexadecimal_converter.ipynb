{
 "cells": [
  {
   "cell_type": "code",
   "execution_count": null,
   "metadata": {},
   "outputs": [],
   "source": [
    "#Amrit Lamichhane #07.05.2020\n",
    "#This programme helps us to convert the given numbers to binary and\n",
    "#hexadecimal\n",
    "print('Welcome to the Binary/Hexadecimal Converter App')\n",
    "#Get user input and generate list\n",
    "max_value=int(input('\\nCompute Binary and Hexadecimal values upto the following decimal numbers :'))\n",
    "decimal=list(range(1,max_value+1))\n",
    "binary=[]\n",
    "hexa_decimal=[]\n",
    "for num in decimal:\n",
    "    binary.append(bin(num))\n",
    "    hexa_decimal.append(hex(num))\n",
    "print('Generating lists are complete !')\n",
    " # Get slicing index from user\n",
    "\n",
    "print('\\nUsing Slices, we will now a show a portion of each list')\n",
    "lower_range=int(input('What decimal number you like to start at :'))\n",
    "upper_range=int(input('What decimal number you like to end at :'))\n",
    "# # Slicice through each list individually\n",
    "print('\\nDecimal values from ' +str(lower_range) + ' to' + str(upper_range)+ ':')\n",
    "for num in decimal[(lower_range-1):upper_range]:\n",
    "    print(num)\n",
    "print('\\nBinary values from ' +str(lower_range) + ' to' + str(upper_range)+ ':')\n",
    "for num in binary[(lower_range-1):upper_range]:\n",
    "    print(num)\n",
    "print('\\nHexa_Decimal values from ' +str(lower_range) + ' to' + str(upper_range)+ ':')\n",
    "for num in hexa_decimal[(lower_range-1):upper_range]:\n",
    "    print(num)\n",
    "#Mainoutput / sumamry of the app in screen\n",
    "input('\\nPress Enter to see all the values from 1 to ' + str(max_value)+ '.')\n",
    "print('Decimal---Binary--Hexadecimal')\n",
    "print('--------------------')\n",
    "for d, b , h in zip(decimal,binary,hexa_decimal):\n",
    "    print(str(d)+ '------' + str(b) + '-------' + str(h))"
   ]
  },
  {
   "cell_type": "code",
   "execution_count": null,
   "metadata": {},
   "outputs": [],
   "source": []
  }
 ],
 "metadata": {
  "kernelspec": {
   "display_name": "Python 3",
   "language": "python",
   "name": "python3"
  },
  "language_info": {
   "codemirror_mode": {
    "name": "ipython",
    "version": 3
   },
   "file_extension": ".py",
   "mimetype": "text/x-python",
   "name": "python",
   "nbconvert_exporter": "python",
   "pygments_lexer": "ipython3",
   "version": "3.7.3"
  }
 },
 "nbformat": 4,
 "nbformat_minor": 2
}
